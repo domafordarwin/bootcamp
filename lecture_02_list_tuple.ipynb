{
 "cells": [
  {
   "cell_type": "markdown",
   "id": "77a6bb17-23c0-4dcb-ac41-43db67fc9723",
   "metadata": {},
   "source": [
    "# 리스트와 튜플 사용법 익히기"
   ]
  },
  {
   "cell_type": "code",
   "execution_count": 1,
   "id": "04da9b41-5c2e-41af-8c17-34e300a20ad7",
   "metadata": {},
   "outputs": [
    {
     "data": {
      "text/plain": [
       "list"
      ]
     },
     "execution_count": 1,
     "metadata": {},
     "output_type": "execute_result"
    }
   ],
   "source": [
    "my_list_1=[1, 2, 3, 4]\n",
    "type(my_list_1)"
   ]
  },
  {
   "cell_type": "code",
   "execution_count": 2,
   "id": "a36613e2-cc96-4806-9be9-dc1070ff156c",
   "metadata": {},
   "outputs": [
    {
     "data": {
      "text/plain": [
       "[1, 2.4, 'a string', ['a sting in another list', 5]]"
      ]
     },
     "execution_count": 2,
     "metadata": {},
     "output_type": "execute_result"
    }
   ],
   "source": [
    "my_list_2=[1, 2.4, \"a string\", ['a sting in another list', 5]]\n",
    "my_list_2"
   ]
  },
  {
   "cell_type": "code",
   "execution_count": 3,
   "id": "b81f24e4-9858-4b34-8ad0-11af209c8357",
   "metadata": {},
   "outputs": [
    {
     "data": {
      "text/plain": [
       "[5, 6, 16]"
      ]
     },
     "execution_count": 3,
     "metadata": {},
     "output_type": "execute_result"
    }
   ],
   "source": [
    "my_list_3 = [2+3, 2*3, 4**2]\n",
    "my_list_3"
   ]
  },
  {
   "cell_type": "code",
   "execution_count": 4,
   "id": "d683181f-62ea-42ad-b10c-fd38a8af0873",
   "metadata": {},
   "outputs": [],
   "source": [
    "my_str ='A string'"
   ]
  },
  {
   "cell_type": "code",
   "execution_count": 5,
   "id": "ce105650-9895-4811-b5ee-5e9d25ae3378",
   "metadata": {},
   "outputs": [
    {
     "data": {
      "text/plain": [
       "'A string'"
      ]
     },
     "execution_count": 5,
     "metadata": {},
     "output_type": "execute_result"
    }
   ],
   "source": [
    "my_str"
   ]
  },
  {
   "cell_type": "code",
   "execution_count": 7,
   "id": "577bf92b-90ce-44a7-9ee0-c2635e0a81e2",
   "metadata": {},
   "outputs": [
    {
     "data": {
      "text/plain": [
       "['A', ' ', 's', 't', 'r', 'i', 'n', 'g']"
      ]
     },
     "execution_count": 7,
     "metadata": {},
     "output_type": "execute_result"
    }
   ],
   "source": [
    "list(my_str) # 리스트로 타입을 변경함"
   ]
  },
  {
   "cell_type": "code",
   "execution_count": 8,
   "id": "4807ea29-9c86-43a4-8cb8-db55772e32cd",
   "metadata": {},
   "outputs": [
    {
     "data": {
      "text/plain": [
       "'A string'"
      ]
     },
     "execution_count": 8,
     "metadata": {},
     "output_type": "execute_result"
    }
   ],
   "source": [
    "my_str"
   ]
  },
  {
   "cell_type": "code",
   "execution_count": 9,
   "id": "132cc806-0172-4e59-94cf-9908c91ff5ac",
   "metadata": {},
   "outputs": [
    {
     "data": {
      "text/plain": [
       "[1, 2, 3, 4, 1, 2]"
      ]
     },
     "execution_count": 9,
     "metadata": {},
     "output_type": "execute_result"
    }
   ],
   "source": [
    "my_list_1 + [1, 2]"
   ]
  },
  {
   "cell_type": "code",
   "execution_count": 10,
   "id": "6cbaa9e8-75e0-466f-9b5f-599c975ffccc",
   "metadata": {},
   "outputs": [
    {
     "data": {
      "text/plain": [
       "[1, 2, 3, 4]"
      ]
     },
     "execution_count": 10,
     "metadata": {},
     "output_type": "execute_result"
    }
   ],
   "source": [
    "my_list_1"
   ]
  },
  {
   "cell_type": "code",
   "execution_count": 11,
   "id": "76db7067-cd60-47d2-9514-4a3185239080",
   "metadata": {},
   "outputs": [
    {
     "data": {
      "text/plain": [
       "[1, 2, 3, 5, 3, 4, 5, 3]"
      ]
     },
     "execution_count": 11,
     "metadata": {},
     "output_type": "execute_result"
    }
   ],
   "source": [
    "[1, 2, 3, 5]+[3, 4, 5, 3]"
   ]
  },
  {
   "cell_type": "code",
   "execution_count": 12,
   "id": "a971d29f-88ef-4517-b383-dd3ef7f5969b",
   "metadata": {},
   "outputs": [
    {
     "data": {
      "text/plain": [
       "[1, 2, 3, 4, 1, 2, 3, 4, 1, 2, 3, 4]"
      ]
     },
     "execution_count": 12,
     "metadata": {},
     "output_type": "execute_result"
    }
   ],
   "source": [
    "my_list_1 * 3"
   ]
  },
  {
   "cell_type": "code",
   "execution_count": 13,
   "id": "5d12c228-36de-4604-b42b-3064eb12c3ac",
   "metadata": {},
   "outputs": [
    {
     "data": {
      "text/plain": [
       "False"
      ]
     },
     "execution_count": 13,
     "metadata": {},
     "output_type": "execute_result"
    }
   ],
   "source": [
    "6 in my_list_1"
   ]
  },
  {
   "cell_type": "code",
   "execution_count": 15,
   "id": "ea5740e7-51da-4486-a522-e36d7fc49300",
   "metadata": {},
   "outputs": [
    {
     "data": {
      "text/plain": [
       "True"
      ]
     },
     "execution_count": 15,
     "metadata": {},
     "output_type": "execute_result"
    }
   ],
   "source": [
    "\"A\" in my_str"
   ]
  },
  {
   "cell_type": "code",
   "execution_count": 16,
   "id": "1ea2b3de-a4b0-4e78-a065-129c81adca6d",
   "metadata": {},
   "outputs": [
    {
     "name": "stdout",
     "output_type": "stream",
     "text": [
      "This codon is neither a start codon nor stop codon\n"
     ]
    }
   ],
   "source": [
    "codon = 'UGG'\n",
    "\n",
    "if codon=='AUG':\n",
    "    print(' This codon is the start codon')\n",
    "elif codon == 'UAA' or codon=='UAH' or codon=='UGA':\n",
    "    print('This condon is the stop codon')\n",
    "else:\n",
    "    print('This codon is neither a start codon nor stop codon')"
   ]
  },
  {
   "cell_type": "code",
   "execution_count": 19,
   "id": "e044cf36-9c71-4190-aabc-42656e075c0a",
   "metadata": {},
   "outputs": [
    {
     "name": "stdout",
     "output_type": "stream",
     "text": [
      "This condon is the stop codon\n"
     ]
    }
   ],
   "source": [
    "# make a list of stop codon\n",
    "start_codon = 'AUG'\n",
    "stop_codons =['UAA', 'UGA', 'UAG']\n",
    "\n",
    "codon = 'UAG'\n",
    "\n",
    "if codon==start_codon:\n",
    "    print(' This codon is the start codon')\n",
    "elif codon in stop_codons:\n",
    "    print('This condon is the stop codon')\n",
    "else:\n",
    "    print('This codon is neither a start codon nor stop codon')"
   ]
  },
  {
   "cell_type": "code",
   "execution_count": 20,
   "id": "93e18ed3-9d62-4b80-88c8-b8aeced54845",
   "metadata": {},
   "outputs": [
    {
     "data": {
      "text/plain": [
       "'a string'"
      ]
     },
     "execution_count": 20,
     "metadata": {},
     "output_type": "execute_result"
    }
   ],
   "source": [
    "my_list_2[2]"
   ]
  },
  {
   "cell_type": "code",
   "execution_count": 21,
   "id": "044cb4ee-bb9e-4699-b075-3d875665b13d",
   "metadata": {},
   "outputs": [
    {
     "data": {
      "text/plain": [
       "[1, 2.4, 'a string', ['a sting in another list', 5]]"
      ]
     },
     "execution_count": 21,
     "metadata": {},
     "output_type": "execute_result"
    }
   ],
   "source": [
    "my_list_2"
   ]
  },
  {
   "cell_type": "code",
   "execution_count": 22,
   "id": "4f2d7dcf-7ff8-43ba-b06f-42ac2c457a16",
   "metadata": {},
   "outputs": [
    {
     "data": {
      "text/plain": [
       "1"
      ]
     },
     "execution_count": 22,
     "metadata": {},
     "output_type": "execute_result"
    }
   ],
   "source": [
    "my_list_2[0]"
   ]
  },
  {
   "cell_type": "code",
   "execution_count": 23,
   "id": "1502b873-5960-422d-9931-cb856c1cf6aa",
   "metadata": {},
   "outputs": [
    {
     "data": {
      "text/plain": [
       "5"
      ]
     },
     "execution_count": 23,
     "metadata": {},
     "output_type": "execute_result"
    }
   ],
   "source": [
    "my_list_2[3][1]"
   ]
  },
  {
   "cell_type": "code",
   "execution_count": 42,
   "id": "beb58399-a3da-4037-bea5-2285272dbacf",
   "metadata": {},
   "outputs": [
    {
     "data": {
      "text/plain": [
       "[0, 1, 2, 3, 4, 5, 6, 7, 8, 9]"
      ]
     },
     "execution_count": 42,
     "metadata": {},
     "output_type": "execute_result"
    }
   ],
   "source": [
    "my_list=[0, 1, 2, 3, 4, 5, 6, 7, 8, 9]\n",
    "my_list"
   ]
  },
  {
   "cell_type": "code",
   "execution_count": 43,
   "id": "0c12cc69-28af-46e7-b3a9-18be58224bad",
   "metadata": {},
   "outputs": [
    {
     "data": {
      "text/plain": [
       "10"
      ]
     },
     "execution_count": 43,
     "metadata": {},
     "output_type": "execute_result"
    }
   ],
   "source": [
    "len(my_list)"
   ]
  },
  {
   "cell_type": "code",
   "execution_count": 27,
   "id": "e4abae90-20ba-4836-b9d9-69699f9a6a34",
   "metadata": {},
   "outputs": [
    {
     "data": {
      "text/plain": [
       "4"
      ]
     },
     "execution_count": 27,
     "metadata": {},
     "output_type": "execute_result"
    }
   ],
   "source": [
    "my_list[4]"
   ]
  },
  {
   "cell_type": "code",
   "execution_count": 29,
   "id": "0d8a0928-d38c-4e80-ae21-e154a7083424",
   "metadata": {},
   "outputs": [
    {
     "data": {
      "text/plain": [
       "10"
      ]
     },
     "execution_count": 29,
     "metadata": {},
     "output_type": "execute_result"
    }
   ],
   "source": [
    "my_list[-1]"
   ]
  },
  {
   "cell_type": "code",
   "execution_count": 30,
   "id": "fa7f1159-dcb6-42bb-8d87-b3b5c7e03613",
   "metadata": {},
   "outputs": [
    {
     "data": {
      "text/plain": [
       "[0, 1, 2, 3, 4, 5, 6, 7]"
      ]
     },
     "execution_count": 30,
     "metadata": {},
     "output_type": "execute_result"
    }
   ],
   "source": [
    "my_list[0:-3]  # my_list[i:j], we get items i through j-1"
   ]
  },
  {
   "cell_type": "code",
   "execution_count": 38,
   "id": "d2a8d5db-23ec-4fc5-874d-457dc4b75b9d",
   "metadata": {},
   "outputs": [
    {
     "data": {
      "text/plain": [
       "[0, 3, 6, 9]"
      ]
     },
     "execution_count": 38,
     "metadata": {},
     "output_type": "execute_result"
    }
   ],
   "source": [
    "my_list[0::3]  # my_list[start:end:stride]"
   ]
  },
  {
   "cell_type": "code",
   "execution_count": 39,
   "id": "90945a66-6741-4f34-b9bb-4bd1a95da2c4",
   "metadata": {},
   "outputs": [
    {
     "data": {
      "text/plain": [
       "[0, 3, 6]"
      ]
     },
     "execution_count": 39,
     "metadata": {},
     "output_type": "execute_result"
    }
   ],
   "source": [
    "my_list[0:7:3]"
   ]
  },
  {
   "cell_type": "code",
   "execution_count": 40,
   "id": "1f127856-18ce-49df-812d-98b7a6f413d9",
   "metadata": {},
   "outputs": [
    {
     "data": {
      "text/plain": [
       "[0, 2, 4, 6, 8, 10]"
      ]
     },
     "execution_count": 40,
     "metadata": {},
     "output_type": "execute_result"
    }
   ],
   "source": [
    "my_list[::2]"
   ]
  },
  {
   "cell_type": "code",
   "execution_count": 44,
   "id": "c67a7192-ed32-4492-ba2c-b2be3f386ec1",
   "metadata": {},
   "outputs": [
    {
     "data": {
      "text/plain": [
       "[9, 7, 5, 3, 1]"
      ]
     },
     "execution_count": 44,
     "metadata": {},
     "output_type": "execute_result"
    }
   ],
   "source": [
    "my_list[::-2]"
   ]
  },
  {
   "cell_type": "code",
   "execution_count": null,
   "id": "55600e8a-c256-43f6-8f75-c11ef4543211",
   "metadata": {},
   "outputs": [],
   "source": []
  },
  {
   "cell_type": "code",
   "execution_count": null,
   "id": "28f768e3-239a-4a33-93d5-353955184803",
   "metadata": {},
   "outputs": [],
   "source": []
  },
  {
   "cell_type": "code",
   "execution_count": null,
   "id": "a64203c5-df12-4a2d-baf6-b0ee073d75a1",
   "metadata": {},
   "outputs": [],
   "source": []
  },
  {
   "cell_type": "code",
   "execution_count": null,
   "id": "0adb7422-d4b7-4273-ad40-6f619fb504ca",
   "metadata": {},
   "outputs": [],
   "source": []
  },
  {
   "cell_type": "code",
   "execution_count": null,
   "id": "fdacec86-e0a1-48f5-a5fb-68d353b6e178",
   "metadata": {},
   "outputs": [],
   "source": []
  },
  {
   "cell_type": "code",
   "execution_count": null,
   "id": "2efc6e25-03f9-46f6-bb5e-a02e9c0f9106",
   "metadata": {},
   "outputs": [],
   "source": []
  },
  {
   "cell_type": "code",
   "execution_count": null,
   "id": "182b78a4-70eb-4c18-a191-d7b922ea54cc",
   "metadata": {},
   "outputs": [],
   "source": []
  }
 ],
 "metadata": {
  "kernelspec": {
   "display_name": "Python 3 (ipykernel)",
   "language": "python",
   "name": "python3"
  },
  "language_info": {
   "codemirror_mode": {
    "name": "ipython",
    "version": 3
   },
   "file_extension": ".py",
   "mimetype": "text/x-python",
   "name": "python",
   "nbconvert_exporter": "python",
   "pygments_lexer": "ipython3",
   "version": "3.8.13"
  }
 },
 "nbformat": 4,
 "nbformat_minor": 5
}
